{
 "cells": [
  {
   "cell_type": "code",
   "execution_count": 1,
   "id": "bbab9dda",
   "metadata": {},
   "outputs": [],
   "source": [
    "import os\n",
    "import tqdm\n",
    "import matplotlib.pyplot as plt\n",
    "import numpy as np\n",
    "import pandas as pd\n",
    "import seaborn as sns\n",
    "from glob import glob\n",
    "import random\n",
    "\n",
    "import cv2\n",
    "from sklearn.model_selection import train_test_split\n",
    "from sklearn.utils import resample\n",
    "from sklearn.metrics import confusion_matrix\n",
    "from PIL import Image\n",
    "\n",
    "import tensorflow as tf\n",
    "\n",
    "from keras.preprocessing.image import ImageDataGenerator\n",
    "from keras.models import Sequential\n",
    "from keras.layers import Dense, Dropout, Conv2D, Flatten, MaxPool2D, GlobalAvgPool2D, GlobalMaxPooling2D\n",
    "from keras.optimizers import RMSprop, Adam"
   ]
  },
  {
   "cell_type": "code",
   "execution_count": 2,
   "id": "f0b705c5",
   "metadata": {},
   "outputs": [],
   "source": [
    "data = (r'C:\\Users\\Deepak L\\Music\\FAkE CURRNCY\\DATASET\\Testing')"
   ]
  },
  {
   "cell_type": "code",
   "execution_count": 3,
   "id": "fdff9d3f",
   "metadata": {},
   "outputs": [],
   "source": [
    "images=[]\n",
    "import os\n",
    "for dirname,_,filenames in os.walk(data):\n",
    "  for filename in filenames:\n",
    "    file_name, file_extension = os.path.splitext(filename)\n",
    "    if file_extension == '.db':\n",
    "      continue\n",
    "    else:\n",
    "      img=os.path.join(dirname,filename)\n",
    "      images.append(img)"
   ]
  },
  {
   "cell_type": "code",
   "execution_count": 4,
   "id": "e9380e27",
   "metadata": {},
   "outputs": [
    {
     "data": {
      "text/plain": [
       "['C:\\\\Users\\\\Deepak L\\\\Music\\\\FAkE CURRNCY\\\\DATASET\\\\Testing\\\\Fake.jpeg',\n",
       " 'C:\\\\Users\\\\Deepak L\\\\Music\\\\FAkE CURRNCY\\\\DATASET\\\\Testing\\\\Real.jpg']"
      ]
     },
     "execution_count": 4,
     "metadata": {},
     "output_type": "execute_result"
    }
   ],
   "source": [
    "images[:10]"
   ]
  },
  {
   "cell_type": "code",
   "execution_count": 5,
   "id": "3b3ad37f",
   "metadata": {},
   "outputs": [
    {
     "data": {
      "text/plain": [
       "2"
      ]
     },
     "execution_count": 5,
     "metadata": {},
     "output_type": "execute_result"
    }
   ],
   "source": [
    "len(images)"
   ]
  },
  {
   "cell_type": "code",
   "execution_count": 6,
   "id": "eeab3ec0",
   "metadata": {},
   "outputs": [],
   "source": [
    "class_values = []\n",
    "for i in images:\n",
    "    j = i.split('\\\\')\n",
    "    class_values.append(j[-2])"
   ]
  },
  {
   "cell_type": "code",
   "execution_count": 7,
   "id": "11da2ca6",
   "metadata": {},
   "outputs": [
    {
     "data": {
      "text/plain": [
       "['Testing', 'Testing']"
      ]
     },
     "execution_count": 7,
     "metadata": {},
     "output_type": "execute_result"
    }
   ],
   "source": [
    "class_values[:10]"
   ]
  },
  {
   "cell_type": "code",
   "execution_count": 8,
   "id": "7e4167d1",
   "metadata": {},
   "outputs": [
    {
     "data": {
      "text/plain": [
       "2"
      ]
     },
     "execution_count": 8,
     "metadata": {},
     "output_type": "execute_result"
    }
   ],
   "source": [
    "len(class_values)"
   ]
  },
  {
   "cell_type": "code",
   "execution_count": 9,
   "id": "4553a295",
   "metadata": {},
   "outputs": [],
   "source": [
    "temp = list(zip(images,class_values))\n",
    "random.shuffle(temp)\n",
    "images, class_values = zip(*temp)\n",
    "data = pd.DataFrame(list(zip(images, class_values)), columns=['image_path', 'class_label'])"
   ]
  },
  {
   "cell_type": "code",
   "execution_count": 10,
   "id": "cde3c011",
   "metadata": {},
   "outputs": [
    {
     "data": {
      "text/html": [
       "<div>\n",
       "<style scoped>\n",
       "    .dataframe tbody tr th:only-of-type {\n",
       "        vertical-align: middle;\n",
       "    }\n",
       "\n",
       "    .dataframe tbody tr th {\n",
       "        vertical-align: top;\n",
       "    }\n",
       "\n",
       "    .dataframe thead th {\n",
       "        text-align: right;\n",
       "    }\n",
       "</style>\n",
       "<table border=\"1\" class=\"dataframe\">\n",
       "  <thead>\n",
       "    <tr style=\"text-align: right;\">\n",
       "      <th></th>\n",
       "      <th>image_path</th>\n",
       "      <th>class_label</th>\n",
       "    </tr>\n",
       "  </thead>\n",
       "  <tbody>\n",
       "    <tr>\n",
       "      <th>0</th>\n",
       "      <td>C:\\Users\\Deepak L\\Music\\FAkE CURRNCY\\DATASET\\T...</td>\n",
       "      <td>Testing</td>\n",
       "    </tr>\n",
       "    <tr>\n",
       "      <th>1</th>\n",
       "      <td>C:\\Users\\Deepak L\\Music\\FAkE CURRNCY\\DATASET\\T...</td>\n",
       "      <td>Testing</td>\n",
       "    </tr>\n",
       "  </tbody>\n",
       "</table>\n",
       "</div>"
      ],
      "text/plain": [
       "                                          image_path class_label\n",
       "0  C:\\Users\\Deepak L\\Music\\FAkE CURRNCY\\DATASET\\T...     Testing\n",
       "1  C:\\Users\\Deepak L\\Music\\FAkE CURRNCY\\DATASET\\T...     Testing"
      ]
     },
     "execution_count": 10,
     "metadata": {},
     "output_type": "execute_result"
    }
   ],
   "source": [
    "data"
   ]
  },
  {
   "cell_type": "code",
   "execution_count": 11,
   "id": "b1fa5777",
   "metadata": {},
   "outputs": [
    {
     "data": {
      "text/plain": [
       "class_label\n",
       "Testing    2\n",
       "Name: count, dtype: int64"
      ]
     },
     "execution_count": 11,
     "metadata": {},
     "output_type": "execute_result"
    }
   ],
   "source": [
    "data.class_label.value_counts()"
   ]
  },
  {
   "cell_type": "code",
   "execution_count": 12,
   "id": "a923e423",
   "metadata": {},
   "outputs": [],
   "source": [
    "df_c0 = data[data['class_label'] ==\"Fake\"]\n",
    "df_c1 = data[data['class_label'] ==\"Real\"]"
   ]
  },
  {
   "cell_type": "code",
   "execution_count": 13,
   "id": "0862b2cb",
   "metadata": {},
   "outputs": [
    {
     "ename": "ValueError",
     "evalue": "high <= 0",
     "output_type": "error",
     "traceback": [
      "\u001b[1;31m---------------------------------------------------------------------------\u001b[0m",
      "\u001b[1;31mValueError\u001b[0m                                Traceback (most recent call last)",
      "Cell \u001b[1;32mIn[13], line 1\u001b[0m\n\u001b[1;32m----> 1\u001b[0m unsampled_df_c0 \u001b[38;5;241m=\u001b[39m resample(df_c0, replace\u001b[38;5;241m=\u001b[39m\u001b[38;5;28;01mTrue\u001b[39;00m, random_state\u001b[38;5;241m=\u001b[39m\u001b[38;5;241m23\u001b[39m, n_samples\u001b[38;5;241m=\u001b[39m\u001b[38;5;241m200\u001b[39m)\n\u001b[0;32m      2\u001b[0m unsampled_df_c1 \u001b[38;5;241m=\u001b[39m resample(df_c1, replace\u001b[38;5;241m=\u001b[39m\u001b[38;5;28;01mTrue\u001b[39;00m, random_state\u001b[38;5;241m=\u001b[39m\u001b[38;5;241m23\u001b[39m, n_samples\u001b[38;5;241m=\u001b[39m\u001b[38;5;241m200\u001b[39m)\n",
      "File \u001b[1;32m~\\anaconda3\\Lib\\site-packages\\sklearn\\utils\\_param_validation.py:211\u001b[0m, in \u001b[0;36mvalidate_params.<locals>.decorator.<locals>.wrapper\u001b[1;34m(*args, **kwargs)\u001b[0m\n\u001b[0;32m    205\u001b[0m \u001b[38;5;28;01mtry\u001b[39;00m:\n\u001b[0;32m    206\u001b[0m     \u001b[38;5;28;01mwith\u001b[39;00m config_context(\n\u001b[0;32m    207\u001b[0m         skip_parameter_validation\u001b[38;5;241m=\u001b[39m(\n\u001b[0;32m    208\u001b[0m             prefer_skip_nested_validation \u001b[38;5;129;01mor\u001b[39;00m global_skip_validation\n\u001b[0;32m    209\u001b[0m         )\n\u001b[0;32m    210\u001b[0m     ):\n\u001b[1;32m--> 211\u001b[0m         \u001b[38;5;28;01mreturn\u001b[39;00m func(\u001b[38;5;241m*\u001b[39margs, \u001b[38;5;241m*\u001b[39m\u001b[38;5;241m*\u001b[39mkwargs)\n\u001b[0;32m    212\u001b[0m \u001b[38;5;28;01mexcept\u001b[39;00m InvalidParameterError \u001b[38;5;28;01mas\u001b[39;00m e:\n\u001b[0;32m    213\u001b[0m     \u001b[38;5;66;03m# When the function is just a wrapper around an estimator, we allow\u001b[39;00m\n\u001b[0;32m    214\u001b[0m     \u001b[38;5;66;03m# the function to delegate validation to the estimator, but we replace\u001b[39;00m\n\u001b[0;32m    215\u001b[0m     \u001b[38;5;66;03m# the name of the estimator by the name of the function in the error\u001b[39;00m\n\u001b[0;32m    216\u001b[0m     \u001b[38;5;66;03m# message to avoid confusion.\u001b[39;00m\n\u001b[0;32m    217\u001b[0m     msg \u001b[38;5;241m=\u001b[39m re\u001b[38;5;241m.\u001b[39msub(\n\u001b[0;32m    218\u001b[0m         \u001b[38;5;124mr\u001b[39m\u001b[38;5;124m\"\u001b[39m\u001b[38;5;124mparameter of \u001b[39m\u001b[38;5;124m\\\u001b[39m\u001b[38;5;124mw+ must be\u001b[39m\u001b[38;5;124m\"\u001b[39m,\n\u001b[0;32m    219\u001b[0m         \u001b[38;5;124mf\u001b[39m\u001b[38;5;124m\"\u001b[39m\u001b[38;5;124mparameter of \u001b[39m\u001b[38;5;132;01m{\u001b[39;00mfunc\u001b[38;5;241m.\u001b[39m\u001b[38;5;18m__qualname__\u001b[39m\u001b[38;5;132;01m}\u001b[39;00m\u001b[38;5;124m must be\u001b[39m\u001b[38;5;124m\"\u001b[39m,\n\u001b[0;32m    220\u001b[0m         \u001b[38;5;28mstr\u001b[39m(e),\n\u001b[0;32m    221\u001b[0m     )\n",
      "File \u001b[1;32m~\\anaconda3\\Lib\\site-packages\\sklearn\\utils\\__init__.py:581\u001b[0m, in \u001b[0;36mresample\u001b[1;34m(replace, n_samples, random_state, stratify, *arrays)\u001b[0m\n\u001b[0;32m    579\u001b[0m \u001b[38;5;28;01mif\u001b[39;00m stratify \u001b[38;5;129;01mis\u001b[39;00m \u001b[38;5;28;01mNone\u001b[39;00m:\n\u001b[0;32m    580\u001b[0m     \u001b[38;5;28;01mif\u001b[39;00m replace:\n\u001b[1;32m--> 581\u001b[0m         indices \u001b[38;5;241m=\u001b[39m random_state\u001b[38;5;241m.\u001b[39mrandint(\u001b[38;5;241m0\u001b[39m, n_samples, size\u001b[38;5;241m=\u001b[39m(max_n_samples,))\n\u001b[0;32m    582\u001b[0m     \u001b[38;5;28;01melse\u001b[39;00m:\n\u001b[0;32m    583\u001b[0m         indices \u001b[38;5;241m=\u001b[39m np\u001b[38;5;241m.\u001b[39marange(n_samples)\n",
      "File \u001b[1;32mmtrand.pyx:763\u001b[0m, in \u001b[0;36mnumpy.random.mtrand.RandomState.randint\u001b[1;34m()\u001b[0m\n",
      "File \u001b[1;32m_bounded_integers.pyx:1338\u001b[0m, in \u001b[0;36mnumpy.random._bounded_integers._rand_int32\u001b[1;34m()\u001b[0m\n",
      "\u001b[1;31mValueError\u001b[0m: high <= 0"
     ]
    }
   ],
   "source": [
    "unsampled_df_c0 = resample(df_c0, replace=True, random_state=23, n_samples=200)\n",
    "unsampled_df_c1 = resample(df_c1, replace=True, random_state=23, n_samples=200)"
   ]
  },
  {
   "cell_type": "code",
   "execution_count": null,
   "id": "1f786afd",
   "metadata": {},
   "outputs": [],
   "source": [
    "df_unsampled = pd.concat([unsampled_df_c0, unsampled_df_c1])\n",
    "df_unsampled"
   ]
  },
  {
   "cell_type": "code",
   "execution_count": null,
   "id": "93d72e12",
   "metadata": {},
   "outputs": [],
   "source": [
    "df_unsampled.head()"
   ]
  },
  {
   "cell_type": "code",
   "execution_count": null,
   "id": "9921ee34",
   "metadata": {},
   "outputs": [],
   "source": [
    "df_unsampled.tail()"
   ]
  },
  {
   "cell_type": "code",
   "execution_count": null,
   "id": "5a3dc655",
   "metadata": {},
   "outputs": [],
   "source": [
    "df_unsampled.class_label.value_counts()"
   ]
  },
  {
   "cell_type": "code",
   "execution_count": null,
   "id": "3217d035",
   "metadata": {},
   "outputs": [],
   "source": [
    "df_unsampled.shape"
   ]
  },
  {
   "cell_type": "code",
   "execution_count": null,
   "id": "2f8df723",
   "metadata": {},
   "outputs": [],
   "source": [
    "data = df_unsampled.sample(frac=1)\n",
    "data.shape"
   ]
  },
  {
   "cell_type": "code",
   "execution_count": null,
   "id": "7e1c466f",
   "metadata": {},
   "outputs": [],
   "source": [
    "data[:10]"
   ]
  },
  {
   "cell_type": "code",
   "execution_count": null,
   "id": "d9c310ae",
   "metadata": {},
   "outputs": [],
   "source": [
    "sns.set(style=\"whitegrid\")\n",
    "plt.figure(figsize=(10, 5))\n",
    "ax = sns.countplot(x=\"class_label\", data=df_unsampled, palette=sns.color_palette(\"cubehelix\", 4))\n",
    "plt.xticks(rotation=90)\n",
    "plt.title(\"Class Label Counts\", {\"fontname\":\"fantasy\", \"fontweight\":\"bold\", \"fontsize\":\"medium\"})\n",
    "plt.ylabel(\"count\", {\"fontname\": \"serif\", \"fontweight\":\"bold\"})\n",
    "plt.xlabel(\"Class_label\", {\"fontname\": \"serif\", \"fontweight\":\"bold\"})"
   ]
  },
  {
   "cell_type": "code",
   "execution_count": null,
   "id": "08e3dbff",
   "metadata": {},
   "outputs": [],
   "source": [
    "def resize_image(img):\n",
    "    file = cv2.imread(img)\n",
    "    resized = cv2.resize(file, (224,224), interpolation = cv2.INTER_AREA)\n",
    "    resized= np.array(resized)\n",
    "    image = np.reshape(resized,[1,224,224,3])\n",
    "    return resized"
   ]
  },
  {
   "cell_type": "code",
   "execution_count": null,
   "id": "f2ea40f3",
   "metadata": {},
   "outputs": [],
   "source": [
    "def resize_image(img):\n",
    "    file = cv2.imread(img)\n",
    "    print(\"START\")\n",
    "    print(file)\n",
    "    print(img)\n",
    "    print(\"END\")\n",
    "    resized = cv2.resize(file, (224,224), interpolation = cv2.INTER_AREA)\n",
    "    resized= np.array(resized)\n",
    "    image = np.reshape(resized,[1,224,224,3])\n",
    "    return resized"
   ]
  },
  {
   "cell_type": "code",
   "execution_count": null,
   "id": "092f6966",
   "metadata": {},
   "outputs": [],
   "source": [
    "images=[resize_image(img) for img in data['image_path']]"
   ]
  },
  {
   "cell_type": "code",
   "execution_count": null,
   "id": "8a73a3c4",
   "metadata": {},
   "outputs": [],
   "source": [
    "images = []\n",
    "for i in data['image_path']:\n",
    "    file_name, file_extension = os.path.splitext(i)\n",
    "    if file_extension == '.db':\n",
    "        print(file_name)\n",
    "    else:\n",
    "        app = resize_image(i)\n",
    "        images.append(app)"
   ]
  },
  {
   "cell_type": "code",
   "execution_count": null,
   "id": "de9a8110",
   "metadata": {},
   "outputs": [],
   "source": [
    "len(images)"
   ]
  },
  {
   "cell_type": "code",
   "execution_count": null,
   "id": "d45ed181",
   "metadata": {},
   "outputs": [],
   "source": [
    "data['class_label'][:15]"
   ]
  },
  {
   "cell_type": "code",
   "execution_count": null,
   "id": "b1890068",
   "metadata": {},
   "outputs": [],
   "source": [
    "class_names = list(data['class_label'])"
   ]
  },
  {
   "cell_type": "code",
   "execution_count": null,
   "id": "129aa567",
   "metadata": {},
   "outputs": [],
   "source": [
    "images[0].shape"
   ]
  },
  {
   "cell_type": "code",
   "execution_count": null,
   "id": "016bb2d8",
   "metadata": {},
   "outputs": [],
   "source": [
    "plt.imshow(images[86])\n",
    "plt.title(class_names[86])"
   ]
  },
  {
   "cell_type": "code",
   "execution_count": null,
   "id": "f535f1e4",
   "metadata": {},
   "outputs": [],
   "source": [
    "plt.imshow(images[188])\n",
    "plt.title(class_names[188])"
   ]
  },
  {
   "cell_type": "code",
   "execution_count": null,
   "id": "6a94b275",
   "metadata": {},
   "outputs": [],
   "source": [
    "images = np.array(images)"
   ]
  },
  {
   "cell_type": "code",
   "execution_count": null,
   "id": "5853dabf",
   "metadata": {},
   "outputs": [],
   "source": [
    "images.shape"
   ]
  },
  {
   "cell_type": "code",
   "execution_count": null,
   "id": "04ff1cc9",
   "metadata": {},
   "outputs": [],
   "source": [
    "from sklearn.preprocessing import LabelBinarizer\n",
    "enc = LabelBinarizer()\n",
    "y = enc.fit_transform(data['class_label'])"
   ]
  },
  {
   "cell_type": "code",
   "execution_count": null,
   "id": "2408194c",
   "metadata": {},
   "outputs": [],
   "source": [
    "enc.classes_"
   ]
  },
  {
   "cell_type": "code",
   "execution_count": null,
   "id": "07239c29",
   "metadata": {},
   "outputs": [],
   "source": [
    "data['class_label'][:10]"
   ]
  },
  {
   "cell_type": "code",
   "execution_count": null,
   "id": "f1295dcf",
   "metadata": {},
   "outputs": [],
   "source": [
    "y[:10]"
   ]
  },
  {
   "cell_type": "code",
   "execution_count": null,
   "id": "b1c3c921",
   "metadata": {},
   "outputs": [],
   "source": [
    "y = []\n",
    "for i in data['class_label']:\n",
    "    if i == 'Real':\n",
    "        k= [1, 0]\n",
    "        y.append(k)\n",
    "    else:\n",
    "        k = [0, 1]\n",
    "        y.append(k)"
   ]
  },
  {
   "cell_type": "code",
   "execution_count": null,
   "id": "123b8d3c",
   "metadata": {},
   "outputs": [],
   "source": [
    "y[:10]"
   ]
  },
  {
   "cell_type": "code",
   "execution_count": null,
   "id": "094f55c0",
   "metadata": {},
   "outputs": [],
   "source": [
    "y=np.array(y)\n",
    "y"
   ]
  },
  {
   "cell_type": "code",
   "execution_count": null,
   "id": "859f0d5a",
   "metadata": {},
   "outputs": [],
   "source": [
    "x_train, x_test, y_train, y_test = train_test_split(images, y, test_size=0.3, stratify=y, random_state=43)"
   ]
  },
  {
   "cell_type": "code",
   "execution_count": null,
   "id": "8a7c329a",
   "metadata": {},
   "outputs": [],
   "source": [
    "y_train[:5]"
   ]
  },
  {
   "cell_type": "code",
   "execution_count": null,
   "id": "8e5f2c0d",
   "metadata": {},
   "outputs": [],
   "source": [
    "x_train.shape, y_train.shape, x_test.shape, y_test.shape"
   ]
  },
  {
   "cell_type": "code",
   "execution_count": null,
   "id": "4c10aa58",
   "metadata": {},
   "outputs": [],
   "source": [
    "batch_size = None\n",
    "\n",
    "model = Sequential()\n",
    "\n",
    "model.add(Conv2D(filters = 32, kernel_size = (5,5),padding = 'Same', \n",
    "                 activation ='relu', batch_input_shape = (batch_size,224, 224, 3)))\n",
    "\n",
    "\n",
    "model.add(Conv2D(filters = 32, kernel_size = (5,5),padding = 'Same', \n",
    "                 activation ='relu'))\n",
    "model.add(MaxPool2D(pool_size=(2,2)))\n",
    "model.add(Dropout(0.2))\n",
    "\n",
    "\n",
    "model.add(Conv2D(filters = 64, kernel_size = (3,3),padding = 'Same', \n",
    "                 activation ='relu'))\n",
    "model.add(Conv2D(filters = 64, kernel_size = (3,3),padding = 'same', \n",
    "                 activation ='relu'))\n",
    "model.add(MaxPool2D(pool_size=(2,2), strides=(2,2)))\n",
    "model.add(Dropout(0.3))\n",
    "\n",
    "model.add(Conv2D(filters = 128, kernel_size = (3,3),padding = 'Same', \n",
    "                 activation ='relu'))\n",
    "model.add(Conv2D(filters = 128, kernel_size = (3,3),padding = 'Same', \n",
    "                 activation ='relu'))\n",
    "model.add(MaxPool2D(pool_size=(2,2), strides=(2,2)))\n",
    "model.add(Dropout(0.4))\n",
    "\n",
    "\n",
    "\n",
    "model.add(GlobalMaxPooling2D())\n",
    "model.add(Dense(256, activation = \"relu\"))\n",
    "model.add(Dropout(0.5))\n",
    "model.add(Dense(2, activation = \"softmax\"))\n",
    "model.summary()"
   ]
  },
  {
   "cell_type": "code",
   "execution_count": null,
   "id": "44336bfe",
   "metadata": {},
   "outputs": [],
   "source": [
    "opt = Adam(learning_rate=0.001)\n",
    "optimizer = tf.keras.optimizers.legacy.RMSprop(learning_rate=0.001, rho=0.9, epsilon=1e-08, decay=0.0)\n",
    "model.compile(optimizer=optimizer, loss='categorical_crossentropy', metrics=['accuracy'])"
   ]
  },
  {
   "cell_type": "code",
   "execution_count": null,
   "id": "5798a7ed",
   "metadata": {},
   "outputs": [],
   "source": [
    "img, x_train, y_train"
   ]
  },
  {
   "cell_type": "code",
   "execution_count": null,
   "id": "2b052cd0",
   "metadata": {},
   "outputs": [],
   "source": [
    "his = model.fit(x_train, y_train, epochs=20, batch_size=25)"
   ]
  },
  {
   "cell_type": "code",
   "execution_count": null,
   "id": "27c6b86b",
   "metadata": {},
   "outputs": [],
   "source": [
    "score_1 = model.evaluate(x_train, y_train, verbose=0)\n",
    "print(\"Train Accuracy : \", score_1[1])"
   ]
  },
  {
   "cell_type": "code",
   "execution_count": null,
   "id": "89688828",
   "metadata": {},
   "outputs": [],
   "source": [
    "score_1 = model.evaluate(x_test, y_test, verbose=0)\n",
    "print(\"Test Accuracy : \", score_1[1])"
   ]
  },
  {
   "cell_type": "code",
   "execution_count": null,
   "id": "295e0901",
   "metadata": {},
   "outputs": [],
   "source": [
    "results = pd.DataFrame(columns=['model', 'test_accuracy'])\n",
    "new = ['CNN', score_1[1]]\n",
    "results.loc[0] = new"
   ]
  },
  {
   "cell_type": "code",
   "execution_count": null,
   "id": "357664a4",
   "metadata": {},
   "outputs": [],
   "source": [
    "model.save(r'C:\\Users\\Deepak L\\Music\\FAkE CURRNCY\\CODE\\FRONT END\\frontend\\CNN_model_n.h5')"
   ]
  },
  {
   "cell_type": "code",
   "execution_count": null,
   "id": "833ab646",
   "metadata": {},
   "outputs": [],
   "source": [
    "results"
   ]
  },
  {
   "cell_type": "code",
   "execution_count": null,
   "id": "9062af88",
   "metadata": {},
   "outputs": [],
   "source": [
    "for i in range(20):\n",
    "    plt.figure(figsize=(15, 15))\n",
    "    plt.subplot(4, 5, i+1)\n",
    "    pred = np.argmax(model.predict(np.array([x_train[i]]))[0])\n",
    "    print(x_train[i])\n",
    "    act = np.argmax(y_test[i])\n",
    "    plt.title(\"Predicted Class : {}\\n Actual Class : {}\".format(enc.classes_[pred], enc.classes_[act]))\n",
    "    plt.imshow(x_test[i])\n",
    "act = np.argmax(y_test[i])\n",
    "print(\"Predicted class : {}\", format(enc.classes_[pred]))\n",
    "print(\"Actual Class : {}\", format(enc.classes_[act]))\n",
    "\n",
    "plt.imshow(x_test[i])"
   ]
  },
  {
   "cell_type": "code",
   "execution_count": null,
   "id": "3cfb4a96",
   "metadata": {},
   "outputs": [],
   "source": [
    "from keras.applications.vgg16 import VGG16"
   ]
  },
  {
   "cell_type": "code",
   "execution_count": null,
   "id": "b53f211d",
   "metadata": {},
   "outputs": [],
   "source": [
    "vgg = VGG16(weights='imagenet',include_top=False,input_shape=(224,224,3))"
   ]
  },
  {
   "cell_type": "code",
   "execution_count": null,
   "id": "eb37f09f",
   "metadata": {},
   "outputs": [],
   "source": [
    "vgg.trainable = False"
   ]
  },
  {
   "cell_type": "code",
   "execution_count": null,
   "id": "6f50ff7b",
   "metadata": {},
   "outputs": [],
   "source": [
    "model_1 = Sequential()\n",
    "model_1.add(vgg)\n",
    "model_1.add(Flatten())\n",
    "model_1.add(Dense(128, activation='relu'))\n",
    "model_1.add(Dropout(0.2))\n",
    "model_1.add(Dense(2, activation='softmax'))"
   ]
  },
  {
   "cell_type": "code",
   "execution_count": null,
   "id": "b994fd6a",
   "metadata": {},
   "outputs": [],
   "source": [
    "opt = Adam(lr=0.001)\n",
    "optimizer = tf.keras.optimizers.legacy.RMSprop(lr=0.001, rho=0.9, epsilon=1e-08, decay=0.0)\n",
    "model_1.compile(optimizer = optimizer, loss = \"categorical_crossentropy\", metrics = [\"accuracy\"])"
   ]
  },
  {
   "cell_type": "code",
   "execution_count": null,
   "id": "f20509fd",
   "metadata": {},
   "outputs": [],
   "source": [
    "his2= model_1.fit(x_train, y_train, epochs = 10, validation_data = (x_test,y_test),batch_size = 28)"
   ]
  },
  {
   "cell_type": "code",
   "execution_count": null,
   "id": "659e8471",
   "metadata": {},
   "outputs": [],
   "source": [
    "score_3 = model_1.evaluate(x_train, y_train, verbose=0)\n",
    "print('train accuracy:', score_3[1])"
   ]
  },
  {
   "cell_type": "code",
   "execution_count": null,
   "id": "2e8ac08e",
   "metadata": {},
   "outputs": [],
   "source": [
    "score_4 = model_1.evaluate(x_test, y_test, verbose=0)\n",
    "print('Test accuracy:', score_4[1])"
   ]
  },
  {
   "cell_type": "code",
   "execution_count": null,
   "id": "8643de55",
   "metadata": {},
   "outputs": [],
   "source": [
    "model.save(r'C:\\Users\\Deepak L\\Music\\FAkE CURRNCY\\CODE\\FRONT END\\frontend\\VGG_model_n.h5')"
   ]
  },
  {
   "cell_type": "code",
   "execution_count": null,
   "id": "0faffbb3",
   "metadata": {},
   "outputs": [],
   "source": [
    "for i in range(20):\n",
    "  plt.figure(figsize=(15,15))\n",
    "  plt.subplot(4,5,i+1)\n",
    "  pred = np.argmax(model_1.predict(np.array([x_test[i]]))[0])\n",
    "  act = np.argmax(y_test[i])\n",
    "  plt.title(\"Predicted class: {}\\n Actual class: {}\".format(enc.classes_[pred],enc.classes_[act]))\n",
    "  plt.imshow(x_test[i])"
   ]
  },
  {
   "cell_type": "code",
   "execution_count": null,
   "id": "d70c3ba1",
   "metadata": {
    "scrolled": true
   },
   "outputs": [],
   "source": [
    "plt.figure(figsize=(15,15))\n",
    "plt.subplot(4,5,i+1)\n",
    "pred = np.argmax(model_1.predict(np.array([x_test[0]]))[0])\n",
    "act = np.argmax(y_test[0])\n",
    "plt.title(\"Predicted class: {}\\n Actual class: {}\".format(enc.classes_[pred],enc.classes_[act]))\n",
    "plt.imshow(x_test[0])"
   ]
  },
  {
   "cell_type": "code",
   "execution_count": null,
   "id": "3521d9b8",
   "metadata": {},
   "outputs": [],
   "source": [
    "results = pd.DataFrame(columns=['model', 'test_accuracy'])\n",
    "new = ['CNN', score_1[1]]\n",
    "results.loc[0] = new"
   ]
  },
  {
   "cell_type": "code",
   "execution_count": null,
   "id": "cf06a936",
   "metadata": {},
   "outputs": [],
   "source": [
    "new = ['VGG', score_4[1]]\n",
    "results.loc[1] = new"
   ]
  },
  {
   "cell_type": "code",
   "execution_count": null,
   "id": "c5948511",
   "metadata": {},
   "outputs": [],
   "source": [
    "results"
   ]
  },
  {
   "cell_type": "code",
   "execution_count": null,
   "id": "1e7f3f16",
   "metadata": {},
   "outputs": [],
   "source": []
  }
 ],
 "metadata": {
  "kernelspec": {
   "display_name": "Python 3 (ipykernel)",
   "language": "python",
   "name": "python3"
  },
  "language_info": {
   "codemirror_mode": {
    "name": "ipython",
    "version": 3
   },
   "file_extension": ".py",
   "mimetype": "text/x-python",
   "name": "python",
   "nbconvert_exporter": "python",
   "pygments_lexer": "ipython3",
   "version": "3.10.14"
  }
 },
 "nbformat": 4,
 "nbformat_minor": 5
}
